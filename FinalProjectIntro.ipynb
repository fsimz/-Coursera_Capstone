{
 "cells": [
  {
   "cell_type": "markdown",
   "metadata": {},
   "source": [
    "## Final Project"
   ]
  },
  {
   "cell_type": "markdown",
   "metadata": {},
   "source": [
    "<b>Introduction/Business Problem:</b>\n",
    "Train a predictive model to determine a suitable location for opening a new cafe/coffee shop business.<p>\n",
    "<b>Hypothesis:</b> The hypothesis is that the venues in areas with a high density of cafe/coffee shops can be used to predict a suitable location for a a similar business in a  different area.<br>\n",
    "Can training data from one location be used to predict optimal cafe locations in a different area?\n",
    "<p>\n",
    "<b>Data/Methodology:</b><p>\n",
    "1. Scrape wikipedia table to collect UK postcodes and town data.<br>\n",
    "2. Clean the html data into a suitable dataframe.<br>\n",
    "3. Obtain coordinates for scraped postcodes from Geocoder library. Ignore postcodes which dont return coordinates.<br>\n",
    "- Only keep data for London and Midlands. The London data will be used to train a model to predict new locations in the midlands.<br>\n",
    "4. Use FourSquare API to return nearby venues for each coordinate and build dataframe.<br>\n",
    "5. Calculate frequency of venues for each postcode and build dataframe.<br>\n",
    "6. Training data: Filter data to only include London data AND postcodes in which Cafe/Coffee shop feature in top 5 most frequent AND postcodes which include at least 5 other surrounding venues:<br>\n",
    "- Calculate number of venues for each postcode.<br>\n",
    "- Get combined frequency for Cafe and Coffee Shop.<br>\n",
    "- Get normalised frequency by dividing by number of venues.<br>\n",
    "- For regression, use venue frequency values as X features and normalised frequency as Y.<br>\n",
    "7. Use training data to test machine learning regression models:<br>\n",
    "- Split data for train and test.<br>\n",
    "- Regression machine learning: Random Forest Regression, Linear Regression and Support Vector Regression.<br>\n",
    "- Tune hyperparameters and Evaluate best performing model (Measure RMSE).<br>\n",
    "8. Use nearby venue data from a different city as features to predict suitable locations for a Cafe/Coffee shop.<br>\n",
    "- Use Regression model to predict Cafe frequencies for new post codes.<br>\n",
    "- Cluster data based and use Folium maps to visualize best and worse areas to open a Cafe business.<br>\n",
    "       \n",
    "        "
   ]
  },
  {
   "cell_type": "code",
   "execution_count": null,
   "metadata": {},
   "outputs": [],
   "source": []
  },
  {
   "cell_type": "code",
   "execution_count": null,
   "metadata": {},
   "outputs": [],
   "source": []
  }
 ],
 "metadata": {
  "kernelspec": {
   "display_name": "Python 3",
   "language": "python",
   "name": "python3"
  },
  "language_info": {
   "codemirror_mode": {
    "name": "ipython",
    "version": 3
   },
   "file_extension": ".py",
   "mimetype": "text/x-python",
   "name": "python",
   "nbconvert_exporter": "python",
   "pygments_lexer": "ipython3",
   "version": "3.6.5"
  }
 },
 "nbformat": 4,
 "nbformat_minor": 2
}
